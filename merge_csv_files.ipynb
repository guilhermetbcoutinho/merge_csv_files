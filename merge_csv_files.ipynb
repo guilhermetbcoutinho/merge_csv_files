{
 "cells": [
  {
   "cell_type": "code",
   "execution_count": 3,
   "id": "fcfb6c76-bdca-4853-a30f-0ce319ca5263",
   "metadata": {},
   "outputs": [],
   "source": [
    "import pandas as pd\n",
    "import os\n",
    "\n",
    "files = [i for i in os.listdir() if \".csv\" in i]\n",
    "\n",
    "df = pd.DataFrame()\n",
    "\n",
    "for file in files:\n",
    "    df_temp = pd.read_csv(file)\n",
    "    df = pd.concat([df, df_temp])\n",
    "\n",
    "df.to_csv(\"merged.csv\", sep=\";\")"
   ]
  }
 ],
 "metadata": {
  "kernelspec": {
   "display_name": "Python 3 (ipykernel)",
   "language": "python",
   "name": "python3"
  },
  "language_info": {
   "codemirror_mode": {
    "name": "ipython",
    "version": 3
   },
   "file_extension": ".py",
   "mimetype": "text/x-python",
   "name": "python",
   "nbconvert_exporter": "python",
   "pygments_lexer": "ipython3",
   "version": "3.10.12"
  }
 },
 "nbformat": 4,
 "nbformat_minor": 5
}
